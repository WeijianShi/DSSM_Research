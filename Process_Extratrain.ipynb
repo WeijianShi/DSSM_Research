{
 "cells": [
  {
   "cell_type": "code",
   "execution_count": 1,
   "metadata": {
    "collapsed": true,
    "ExecuteTime": {
     "start_time": "2023-04-12T13:36:15.040246Z",
     "end_time": "2023-04-12T13:36:15.361225Z"
    }
   },
   "outputs": [],
   "source": [
    "import numpy as np\n",
    "import pandas as pd\n"
   ]
  },
  {
   "cell_type": "code",
   "execution_count": 2,
   "outputs": [
    {
     "data": {
      "text/plain": "   id  qid1  qid2                                          question1   \n0   0     1     2  What is the step by step guide to invest in sh...  \\\n1   1     3     4  What is the story of Kohinoor (Koh-i-Noor) Dia...   \n2   2     5     6  How can I increase the speed of my internet co...   \n3   3     7     8  Why am I mentally very lonely? How can I solve...   \n4   4     9    10  Which one dissolve in water quikly sugar, salt...   \n\n                                           question2  is_duplicate  \n0  What is the step by step guide to invest in sh...             0  \n1  What would happen if the Indian government sto...             0  \n2  How can Internet speed be increased by hacking...             0  \n3  Find the remainder when [math]23^{24}[/math] i...             0  \n4            Which fish would survive in salt water?             0  ",
      "text/html": "<div>\n<style scoped>\n    .dataframe tbody tr th:only-of-type {\n        vertical-align: middle;\n    }\n\n    .dataframe tbody tr th {\n        vertical-align: top;\n    }\n\n    .dataframe thead th {\n        text-align: right;\n    }\n</style>\n<table border=\"1\" class=\"dataframe\">\n  <thead>\n    <tr style=\"text-align: right;\">\n      <th></th>\n      <th>id</th>\n      <th>qid1</th>\n      <th>qid2</th>\n      <th>question1</th>\n      <th>question2</th>\n      <th>is_duplicate</th>\n    </tr>\n  </thead>\n  <tbody>\n    <tr>\n      <th>0</th>\n      <td>0</td>\n      <td>1</td>\n      <td>2</td>\n      <td>What is the step by step guide to invest in sh...</td>\n      <td>What is the step by step guide to invest in sh...</td>\n      <td>0</td>\n    </tr>\n    <tr>\n      <th>1</th>\n      <td>1</td>\n      <td>3</td>\n      <td>4</td>\n      <td>What is the story of Kohinoor (Koh-i-Noor) Dia...</td>\n      <td>What would happen if the Indian government sto...</td>\n      <td>0</td>\n    </tr>\n    <tr>\n      <th>2</th>\n      <td>2</td>\n      <td>5</td>\n      <td>6</td>\n      <td>How can I increase the speed of my internet co...</td>\n      <td>How can Internet speed be increased by hacking...</td>\n      <td>0</td>\n    </tr>\n    <tr>\n      <th>3</th>\n      <td>3</td>\n      <td>7</td>\n      <td>8</td>\n      <td>Why am I mentally very lonely? How can I solve...</td>\n      <td>Find the remainder when [math]23^{24}[/math] i...</td>\n      <td>0</td>\n    </tr>\n    <tr>\n      <th>4</th>\n      <td>4</td>\n      <td>9</td>\n      <td>10</td>\n      <td>Which one dissolve in water quikly sugar, salt...</td>\n      <td>Which fish would survive in salt water?</td>\n      <td>0</td>\n    </tr>\n  </tbody>\n</table>\n</div>"
     },
     "execution_count": 2,
     "metadata": {},
     "output_type": "execute_result"
    }
   ],
   "source": [
    "data = pd.read_csv(\"/Users/wesley/Documents/GitHub/IEOR4579_Final_Project/Data/Extratrain.csv\")\n",
    "data.head()"
   ],
   "metadata": {
    "collapsed": false,
    "ExecuteTime": {
     "start_time": "2023-04-12T13:37:33.466623Z",
     "end_time": "2023-04-12T13:37:34.206981Z"
    }
   }
  },
  {
   "cell_type": "code",
   "execution_count": 3,
   "outputs": [
    {
     "data": {
      "text/plain": "is_duplicate\n0    255027\n1    149263\nName: count, dtype: int64"
     },
     "execution_count": 3,
     "metadata": {},
     "output_type": "execute_result"
    }
   ],
   "source": [
    "data['is_duplicate'].value_counts()"
   ],
   "metadata": {
    "collapsed": false,
    "ExecuteTime": {
     "start_time": "2023-04-12T13:38:01.983126Z",
     "end_time": "2023-04-12T13:38:01.992978Z"
    }
   }
  },
  {
   "cell_type": "code",
   "execution_count": 12,
   "outputs": [
    {
     "data": {
      "text/plain": "        is_duplicate                                          question1   \n0                  0  What is the step by step guide to invest in sh...  \\\n1                  1  Astrology: I am a Capricorn Sun Cap moon and c...   \n2                  1                     How can I be a good geologist?   \n3                  0                    When do you use シ instead of し?   \n4                  0  Motorola (company): Can I hack my Charter Moto...   \n...              ...                                                ...   \n283688             1         What does Jainism say about homosexuality?   \n283689             1          Do you believe there is life after death?   \n283690             0                                  What is one coin?   \n283691             0  What is the approx annual cost of living while...   \n283692             0              What is like to have sex with cousin?   \n\n                                                question2     split  \n0       What is the step by step guide to invest in sh... -1.801308  \n1       I'm a triple Capricorn (Sun, Moon and ascendan... -0.887113  \n2               What should I do to be a great geologist? -0.556148  \n3                   When do you use \"&\" instead of \"and\"? -0.068404  \n4       How do I hack Motorola DCX3400 for free internet? -0.671798  \n...                                                   ...       ...  \n283688  What does Jainism say about Gays and Homosexua...  3.731292  \n283689         Is it true that there is life after death?  0.387502  \n283690                                  What's this coin? -1.212522  \n283691  I am having little hairfall problem but I want...  1.928516  \n283692      What is it like to have sex with your cousin? -0.746483  \n\n[283693 rows x 4 columns]",
      "text/html": "<div>\n<style scoped>\n    .dataframe tbody tr th:only-of-type {\n        vertical-align: middle;\n    }\n\n    .dataframe tbody tr th {\n        vertical-align: top;\n    }\n\n    .dataframe thead th {\n        text-align: right;\n    }\n</style>\n<table border=\"1\" class=\"dataframe\">\n  <thead>\n    <tr style=\"text-align: right;\">\n      <th></th>\n      <th>is_duplicate</th>\n      <th>question1</th>\n      <th>question2</th>\n      <th>split</th>\n    </tr>\n  </thead>\n  <tbody>\n    <tr>\n      <th>0</th>\n      <td>0</td>\n      <td>What is the step by step guide to invest in sh...</td>\n      <td>What is the step by step guide to invest in sh...</td>\n      <td>-1.801308</td>\n    </tr>\n    <tr>\n      <th>1</th>\n      <td>1</td>\n      <td>Astrology: I am a Capricorn Sun Cap moon and c...</td>\n      <td>I'm a triple Capricorn (Sun, Moon and ascendan...</td>\n      <td>-0.887113</td>\n    </tr>\n    <tr>\n      <th>2</th>\n      <td>1</td>\n      <td>How can I be a good geologist?</td>\n      <td>What should I do to be a great geologist?</td>\n      <td>-0.556148</td>\n    </tr>\n    <tr>\n      <th>3</th>\n      <td>0</td>\n      <td>When do you use シ instead of し?</td>\n      <td>When do you use \"&amp;\" instead of \"and\"?</td>\n      <td>-0.068404</td>\n    </tr>\n    <tr>\n      <th>4</th>\n      <td>0</td>\n      <td>Motorola (company): Can I hack my Charter Moto...</td>\n      <td>How do I hack Motorola DCX3400 for free internet?</td>\n      <td>-0.671798</td>\n    </tr>\n    <tr>\n      <th>...</th>\n      <td>...</td>\n      <td>...</td>\n      <td>...</td>\n      <td>...</td>\n    </tr>\n    <tr>\n      <th>283688</th>\n      <td>1</td>\n      <td>What does Jainism say about homosexuality?</td>\n      <td>What does Jainism say about Gays and Homosexua...</td>\n      <td>3.731292</td>\n    </tr>\n    <tr>\n      <th>283689</th>\n      <td>1</td>\n      <td>Do you believe there is life after death?</td>\n      <td>Is it true that there is life after death?</td>\n      <td>0.387502</td>\n    </tr>\n    <tr>\n      <th>283690</th>\n      <td>0</td>\n      <td>What is one coin?</td>\n      <td>What's this coin?</td>\n      <td>-1.212522</td>\n    </tr>\n    <tr>\n      <th>283691</th>\n      <td>0</td>\n      <td>What is the approx annual cost of living while...</td>\n      <td>I am having little hairfall problem but I want...</td>\n      <td>1.928516</td>\n    </tr>\n    <tr>\n      <th>283692</th>\n      <td>0</td>\n      <td>What is like to have sex with cousin?</td>\n      <td>What is it like to have sex with your cousin?</td>\n      <td>-0.746483</td>\n    </tr>\n  </tbody>\n</table>\n<p>283693 rows × 4 columns</p>\n</div>"
     },
     "execution_count": 12,
     "metadata": {},
     "output_type": "execute_result"
    }
   ],
   "source": [
    "train = pd.read_csv(\"/Users/wesley/Documents/GitHub/IEOR4579_Final_Project/Data/train_extra.csv\")\n",
    "train"
   ],
   "metadata": {
    "collapsed": false,
    "ExecuteTime": {
     "start_time": "2023-04-12T13:55:55.882778Z",
     "end_time": "2023-04-12T13:55:56.347754Z"
    }
   }
  },
  {
   "cell_type": "code",
   "execution_count": 9,
   "outputs": [],
   "source": [
    "data = data[['is_duplicate', 'question1', 'question2']]\n"
   ],
   "metadata": {
    "collapsed": false,
    "ExecuteTime": {
     "start_time": "2023-04-12T13:49:18.025911Z",
     "end_time": "2023-04-12T13:49:18.030388Z"
    }
   }
  },
  {
   "cell_type": "code",
   "execution_count": 11,
   "outputs": [],
   "source": [
    "\n",
    "data['split'] = np.random.randn(data.shape[0], 1)\n",
    "\n",
    "msk = np.random.rand(len(data)) <= 0.7\n",
    "\n",
    "train_extra = data[msk]\n",
    "test_extra = data[~msk]\n",
    "train_extra.to_csv('train_extra.csv', index=False)\n",
    "test_extra.to_csv('test_extra.csv', index=False)"
   ],
   "metadata": {
    "collapsed": false,
    "ExecuteTime": {
     "start_time": "2023-04-12T13:55:10.034095Z",
     "end_time": "2023-04-12T13:55:11.215693Z"
    }
   }
  },
  {
   "cell_type": "code",
   "execution_count": null,
   "outputs": [],
   "source": [],
   "metadata": {
    "collapsed": false
   }
  }
 ],
 "metadata": {
  "kernelspec": {
   "display_name": "Python 3",
   "language": "python",
   "name": "python3"
  },
  "language_info": {
   "codemirror_mode": {
    "name": "ipython",
    "version": 2
   },
   "file_extension": ".py",
   "mimetype": "text/x-python",
   "name": "python",
   "nbconvert_exporter": "python",
   "pygments_lexer": "ipython2",
   "version": "2.7.6"
  }
 },
 "nbformat": 4,
 "nbformat_minor": 0
}
